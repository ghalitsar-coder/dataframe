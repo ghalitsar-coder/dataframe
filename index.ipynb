import pandas as pd
# Example: Data of students
data = {
    'Name': ['Alice', 'Bob', 'Charlie'],
    'Age': [24, 27, 22],
    'Grade': ['A', 'B', 'A']
}

df = pd.DataFrame(data)
# print(df)

df_excel = pd.read_excel('../data.xlsx',sheet_name='data')
df_new = df_excel[['nama_kabupaten_kota','jumlah_produksi_sampah','tahun']]
# df_new2 = df_new.groupby('tahun')['jumlah_produksi_sampah'].sum()



df_new4 = {}
        

for index, row in df_new.iterrows():
    jumlah_produksi = row['jumlah_produksi_sampah'] if pd.notna(row['jumlah_produksi_sampah']) else 0
    if row['tahun'] not in df_new4:
        df_new4[row['tahun']] = 0
    df_new4[row['tahun']] += jumlah_produksi

df_result = pd.DataFrame(list(df_new4.items()), columns=['tahun', 'total_jumlah_produksi_sampah'])
df_no2 = df_result[df_result['tahun'] == 2021]
print(df_no2)
df_result.set_index('tahun', inplace=True)
df_result




df_new3 = {}

for index, row in df_new.iterrows():
    jumlah_produksi = row['jumlah_produksi_sampah'] if pd.notna(row['jumlah_produksi_sampah']) else 0
    
    if row['nama_kabupaten_kota'] not in df_new3:
        df_new3[row['nama_kabupaten_kota']] = 0
    
    df_new3[row['nama_kabupaten_kota']] += jumlah_produksi

df_result = pd.DataFrame(list(df_new3.items()), columns=['nama_kabupaten_kota', 'total_jumlah_produksi_sampah'])

df_result.set_index('nama_kabupaten_kota', inplace=True)

df_result
